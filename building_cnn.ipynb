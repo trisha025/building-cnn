{
  "nbformat": 4,
  "nbformat_minor": 0,
  "metadata": {
    "colab": {
      "name": "building-cnn.ipynb",
      "version": "0.3.2",
      "provenance": []
    },
    "kernelspec": {
      "name": "python3",
      "display_name": "Python 3"
    },
    "accelerator": "GPU"
  },
  "cells": [
    {
      "metadata": {
        "id": "0uIV7gSoutlX",
        "colab_type": "code",
        "colab": {
          "base_uri": "https://localhost:8080/",
          "height": 34
        },
        "outputId": "f5c01c17-c9bd-4db3-f438-1607709c5da1"
      },
      "cell_type": "code",
      "source": [
        "#importing libraries\n",
        "from keras.models import Sequential #initialise convnet\n",
        "from keras.layers import Conv2D #to add conv layers\n",
        "from keras.layers import MaxPooling2D #to add pooling layers\n",
        "from keras.layers import Flatten #Flattening\n",
        "from keras.layers import Dense #For full connection"
      ],
      "execution_count": 1,
      "outputs": [
        {
          "output_type": "stream",
          "text": [
            "Using TensorFlow backend.\n"
          ],
          "name": "stderr"
        }
      ]
    },
    {
      "metadata": {
        "id": "xIu3bJDsu6Mc",
        "colab_type": "code",
        "colab": {}
      },
      "cell_type": "code",
      "source": [
        "#initialising cnn\n",
        "classifier = Sequential()"
      ],
      "execution_count": 0,
      "outputs": []
    },
    {
      "metadata": {
        "id": "i6msjTLfu6EE",
        "colab_type": "code",
        "colab": {}
      },
      "cell_type": "code",
      "source": [
        "#adding first conv layer\n",
        "classifier.add(Conv2D(32, (3,3), input_shape = (64,64,3), activation = \"relu\"))"
      ],
      "execution_count": 0,
      "outputs": []
    },
    {
      "metadata": {
        "id": "v3YlVm9Mu6Cq",
        "colab_type": "code",
        "colab": {}
      },
      "cell_type": "code",
      "source": [
        "#adding pooling layer\n",
        "classifier.add(MaxPooling2D(pool_size = (2,2)))"
      ],
      "execution_count": 0,
      "outputs": []
    },
    {
      "metadata": {
        "id": "VPZQApCBEJ7Y",
        "colab_type": "code",
        "colab": {}
      },
      "cell_type": "code",
      "source": [
        "# Adding a second convolutional layer\n",
        "classifier.add(Conv2D(32, (3, 3), activation = 'relu'))\n",
        "classifier.add(MaxPooling2D(pool_size = (2, 2)))"
      ],
      "execution_count": 0,
      "outputs": []
    },
    {
      "metadata": {
        "id": "mPh_9WrNu5_2",
        "colab_type": "code",
        "colab": {}
      },
      "cell_type": "code",
      "source": [
        "#flattening\n",
        "classifier.add(Flatten())"
      ],
      "execution_count": 0,
      "outputs": []
    },
    {
      "metadata": {
        "id": "SAABK_-Au59V",
        "colab_type": "code",
        "colab": {}
      },
      "cell_type": "code",
      "source": [
        "#full connection\n",
        "classifier.add(Dense(units = 128, activation = 'relu'))"
      ],
      "execution_count": 0,
      "outputs": []
    },
    {
      "metadata": {
        "id": "vd1WqOdXu56M",
        "colab_type": "code",
        "colab": {}
      },
      "cell_type": "code",
      "source": [
        "#output layer\n",
        "classifier.add(Dense(units = 1, activation = 'sigmoid'))"
      ],
      "execution_count": 0,
      "outputs": []
    },
    {
      "metadata": {
        "id": "fZxa74W4u53U",
        "colab_type": "code",
        "colab": {}
      },
      "cell_type": "code",
      "source": [
        "#compiling the CNN\n",
        "classifier.compile(optimizer = 'adam', loss = 'binary_crossentropy', metrics = ['accuracy'])"
      ],
      "execution_count": 0,
      "outputs": []
    },
    {
      "metadata": {
        "id": "Uxxmtr0A_uBi",
        "colab_type": "code",
        "colab": {
          "base_uri": "https://localhost:8080/",
          "height": 119
        },
        "outputId": "66830cf6-1da9-405b-f885-73fd2e4a021a"
      },
      "cell_type": "code",
      "source": [
        "#importing dataset\n",
        "!git clone https://github.com/EKami/deep_learning_A-Z.git"
      ],
      "execution_count": 16,
      "outputs": [
        {
          "output_type": "stream",
          "text": [
            "Cloning into 'deep_learning_A-Z'...\n",
            "remote: Enumerating objects: 10305, done.\u001b[K\n",
            "remote: Total 10305 (delta 0), reused 0 (delta 0), pack-reused 10305\u001b[K\n",
            "Receiving objects: 100% (10305/10305), 237.98 MiB | 20.11 MiB/s, done.\n",
            "Resolving deltas: 100% (142/142), done.\n",
            "Checking out files: 100% (10130/10130), done.\n"
          ],
          "name": "stdout"
        }
      ]
    },
    {
      "metadata": {
        "id": "sGgH531oEasI",
        "colab_type": "code",
        "colab": {}
      },
      "cell_type": "code",
      "source": [
        "#fitting the CNN\n",
        "#importing class\n",
        "from keras.preprocessing.image import ImageDataGenerator"
      ],
      "execution_count": 0,
      "outputs": []
    },
    {
      "metadata": {
        "id": "79MBLcdh9qzK",
        "colab_type": "code",
        "colab": {}
      },
      "cell_type": "code",
      "source": [
        "#image preprocessing (image augmentation)\n",
        "train_datagen = ImageDataGenerator(\n",
        "        rescale=1./255,\n",
        "        shear_range=0.2,\n",
        "        zoom_range=0.2,\n",
        "        horizontal_flip=True)\n",
        "\n",
        "test_datagen = ImageDataGenerator(rescale=1./255)"
      ],
      "execution_count": 0,
      "outputs": []
    },
    {
      "metadata": {
        "id": "jqdAooWdDvpd",
        "colab_type": "code",
        "colab": {
          "base_uri": "https://localhost:8080/",
          "height": 34
        },
        "outputId": "594ca71d-8ead-4e7e-d669-8a8d4fa528d7"
      },
      "cell_type": "code",
      "source": [
        "training_set = train_datagen.flow_from_directory(\n",
        "        'deep_learning_A-Z/Volume_1-Supervised_Deep_Learning/Part_2-Convolutional_Neural_Networks-CNN/dataset/training_set/',\n",
        "        target_size=(64,64),\n",
        "        batch_size=32,\n",
        "        class_mode='binary')"
      ],
      "execution_count": 18,
      "outputs": [
        {
          "output_type": "stream",
          "text": [
            "Found 8000 images belonging to 2 classes.\n"
          ],
          "name": "stdout"
        }
      ]
    },
    {
      "metadata": {
        "id": "JVrlry0yDvjM",
        "colab_type": "code",
        "colab": {
          "base_uri": "https://localhost:8080/",
          "height": 34
        },
        "outputId": "ab50ac68-f042-4d26-9b13-ec89e15405c6"
      },
      "cell_type": "code",
      "source": [
        "test_set = test_datagen.flow_from_directory(\n",
        "        'deep_learning_A-Z/Volume_1-Supervised_Deep_Learning/Part_2-Convolutional_Neural_Networks-CNN/dataset/test_set/',\n",
        "        target_size=(64,64),\n",
        "        batch_size=32,\n",
        "        class_mode='binary')"
      ],
      "execution_count": 19,
      "outputs": [
        {
          "output_type": "stream",
          "text": [
            "Found 2000 images belonging to 2 classes.\n"
          ],
          "name": "stdout"
        }
      ]
    },
    {
      "metadata": {
        "id": "zUqp54NoF6Ra",
        "colab_type": "code",
        "colab": {
          "base_uri": "https://localhost:8080/",
          "height": 255
        },
        "outputId": "93d36302-6c3f-4916-b003-a26835625e60"
      },
      "cell_type": "code",
      "source": [
        "classifier.fit_generator(\n",
        "        training_set,\n",
        "        steps_per_epoch=8000,\n",
        "        epochs=25,\n",
        "        validation_data=test_set,\n",
        "        validation_steps=2000)"
      ],
      "execution_count": 0,
      "outputs": [
        {
          "output_type": "stream",
          "text": [
            "Epoch 1/25\n",
            "8000/8000 [==============================] - 2493s 312ms/step - loss: 0.3888 - acc: 0.8187 - val_loss: 0.7445 - val_acc: 0.7693\n",
            "Epoch 2/25\n",
            "8000/8000 [==============================] - 2458s 307ms/step - loss: 0.1431 - acc: 0.9444 - val_loss: 1.2112 - val_acc: 0.7666\n",
            "Epoch 3/25\n",
            "8000/8000 [==============================] - 2447s 306ms/step - loss: 0.0762 - acc: 0.9721 - val_loss: 1.6141 - val_acc: 0.7354\n",
            "Epoch 4/25\n",
            "8000/8000 [==============================] - 2450s 306ms/step - loss: 0.0538 - acc: 0.9814 - val_loss: 1.5445 - val_acc: 0.7509\n",
            "Epoch 5/25\n",
            "8000/8000 [==============================] - 2443s 305ms/step - loss: 0.0414 - acc: 0.9859 - val_loss: 1.7512 - val_acc: 0.7555\n",
            "Epoch 6/25\n",
            "8000/8000 [==============================] - 2511s 314ms/step - loss: 0.0358 - acc: 0.9881 - val_loss: 1.7183 - val_acc: 0.7673\n",
            "Epoch 7/25\n",
            "6824/8000 [========================>.....] - ETA: 5:14 - loss: 0.0299 - acc: 0.9904"
          ],
          "name": "stdout"
        }
      ]
    }
  ]
}